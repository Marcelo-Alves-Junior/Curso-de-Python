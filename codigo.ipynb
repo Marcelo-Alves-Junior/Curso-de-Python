{
 "cells": [
  {
   "cell_type": "code",
   "execution_count": 17,
   "metadata": {},
   "outputs": [
    {
     "name": "stdout",
     "output_type": "stream",
     "text": [
      "Meu código jupyter\n"
     ]
    }
   ],
   "source": [
    "print ('Meu código jupyter')"
   ]
  },
  {
   "cell_type": "code",
   "execution_count": null,
   "metadata": {},
   "outputs": [
    {
     "name": "stdout",
     "output_type": "stream",
     "text": [
      "Collecting pyautogui\n",
      "  Using cached PyAutoGUI-0.9.54.tar.gz (61 kB)\n",
      "  Installing build dependencies: started\n",
      "  Installing build dependencies: finished with status 'done'\n",
      "  Getting requirements to build wheel: started\n",
      "  Getting requirements to build wheel: finished with status 'done'\n",
      "  Preparing metadata (pyproject.toml): started\n",
      "  Preparing metadata (pyproject.toml): finished with status 'done'\n",
      "Collecting pymsgbox (from pyautogui)\n",
      "  Using cached PyMsgBox-1.0.9.tar.gz (18 kB)\n",
      "  Installing build dependencies: started\n",
      "  Installing build dependencies: finished with status 'done'\n",
      "  Getting requirements to build wheel: started\n",
      "  Getting requirements to build wheel: finished with status 'done'\n",
      "  Preparing metadata (pyproject.toml): started\n",
      "  Preparing metadata (pyproject.toml): finished with status 'done'\n",
      "Collecting pytweening>=1.0.4 (from pyautogui)\n",
      "  Using cached pytweening-1.2.0.tar.gz (171 kB)\n",
      "  Installing build dependencies: started\n",
      "  Installing build dependencies: finished with status 'done'\n",
      "  Getting requirements to build wheel: started\n",
      "  Getting requirements to build wheel: finished with status 'done'\n",
      "  Preparing metadata (pyproject.toml): started\n",
      "  Preparing metadata (pyproject.toml): finished with status 'done'\n",
      "Collecting pyscreeze>=0.1.21 (from pyautogui)\n",
      "  Using cached pyscreeze-1.0.1.tar.gz (27 kB)\n",
      "  Installing build dependencies: started\n",
      "  Installing build dependencies: finished with status 'done'\n",
      "  Getting requirements to build wheel: started\n",
      "  Getting requirements to build wheel: finished with status 'done'\n",
      "  Preparing metadata (pyproject.toml): started\n",
      "  Preparing metadata (pyproject.toml): finished with status 'done'\n",
      "Collecting pygetwindow>=0.0.5 (from pyautogui)\n",
      "  Using cached PyGetWindow-0.0.9.tar.gz (9.7 kB)\n",
      "  Installing build dependencies: started\n",
      "  Installing build dependencies: finished with status 'done'\n",
      "  Getting requirements to build wheel: started\n",
      "  Getting requirements to build wheel: finished with status 'done'\n",
      "  Preparing metadata (pyproject.toml): started\n",
      "  Preparing metadata (pyproject.toml): finished with status 'done'\n",
      "Collecting mouseinfo (from pyautogui)\n",
      "  Using cached MouseInfo-0.1.3.tar.gz (10 kB)\n",
      "  Installing build dependencies: started\n",
      "  Installing build dependencies: finished with status 'done'\n",
      "  Getting requirements to build wheel: started\n",
      "  Getting requirements to build wheel: finished with status 'done'\n",
      "  Preparing metadata (pyproject.toml): started\n",
      "  Preparing metadata (pyproject.toml): finished with status 'done'\n",
      "Collecting pyrect (from pygetwindow>=0.0.5->pyautogui)\n",
      "  Using cached PyRect-0.2.0.tar.gz (17 kB)\n",
      "  Installing build dependencies: started\n",
      "  Installing build dependencies: finished with status 'done'\n",
      "  Getting requirements to build wheel: started\n",
      "  Getting requirements to build wheel: finished with status 'done'\n",
      "  Preparing metadata (pyproject.toml): started\n",
      "  Preparing metadata (pyproject.toml): finished with status 'done'\n",
      "Collecting pyperclip (from mouseinfo->pyautogui)\n",
      "  Using cached pyperclip-1.9.0.tar.gz (20 kB)\n",
      "  Installing build dependencies: started\n",
      "  Installing build dependencies: finished with status 'done'\n",
      "  Getting requirements to build wheel: started\n",
      "  Getting requirements to build wheel: finished with status 'done'\n",
      "  Preparing metadata (pyproject.toml): started\n",
      "  Preparing metadata (pyproject.toml): finished with status 'done'\n",
      "Building wheels for collected packages: pyautogui, pygetwindow, pyscreeze, pytweening, mouseinfo, pymsgbox, pyperclip, pyrect\n",
      "  Building wheel for pyautogui (pyproject.toml): started\n",
      "  Building wheel for pyautogui (pyproject.toml): finished with status 'done'\n",
      "  Created wheel for pyautogui: filename=PyAutoGUI-0.9.54-py3-none-any.whl size=37601 sha256=f2bc1a27a639862f080c987743b8cd76f66373591f7ad0ed961173d4760de583\n",
      "  Stored in directory: c:\\users\\dev\\appdata\\local\\pip\\cache\\wheels\\9c\\22\\e7\\c97f656d0790ef69feae4fcc7bbc1fc648f1b37879f52e7480\n",
      "  Building wheel for pygetwindow (pyproject.toml): started\n",
      "  Building wheel for pygetwindow (pyproject.toml): finished with status 'done'\n",
      "  Created wheel for pygetwindow: filename=PyGetWindow-0.0.9-py3-none-any.whl size=11080 sha256=f657aeeac9803f70a1e055d50293399a3951da32279e6a9b7128dd6238f6548e\n",
      "  Stored in directory: c:\\users\\dev\\appdata\\local\\pip\\cache\\wheels\\87\\94\\20\\4e4ddd07e7276e44a38ac39d5b6c919d38ef27b9ebc5041e0f\n",
      "  Building wheel for pyscreeze (pyproject.toml): started\n",
      "  Building wheel for pyscreeze (pyproject.toml): finished with status 'done'\n",
      "  Created wheel for pyscreeze: filename=PyScreeze-1.0.1-py3-none-any.whl size=14378 sha256=2fa5cec82d1bfcc4cd93816849a564eb15e2bbbf18fa9a15812224728be3032f\n",
      "  Stored in directory: c:\\users\\dev\\appdata\\local\\pip\\cache\\wheels\\1c\\6e\\d7\\0acfbc5116e11006753649efc7cb40bb9df98990798a21960d\n",
      "  Building wheel for pytweening (pyproject.toml): started\n",
      "  Building wheel for pytweening (pyproject.toml): finished with status 'done'\n",
      "  Created wheel for pytweening: filename=pytweening-1.2.0-py3-none-any.whl size=8028 sha256=6ca8f94719c1e49bcc54a09924287bddf797867218afb127cafc02ff15edfbf2\n",
      "  Stored in directory: c:\\users\\dev\\appdata\\local\\pip\\cache\\wheels\\e7\\89\\f5\\71248cbe0cc120d985c1976f8f2f31675069644c23ff03abfc\n",
      "  Building wheel for mouseinfo (pyproject.toml): started\n",
      "  Building wheel for mouseinfo (pyproject.toml): finished with status 'done'\n",
      "  Created wheel for mouseinfo: filename=MouseInfo-0.1.3-py3-none-any.whl size=10908 sha256=98a8499d9a23d2891992e77ef0b4355848061b101fdb218f7f3ed527d66d5ab2\n",
      "  Stored in directory: c:\\users\\dev\\appdata\\local\\pip\\cache\\wheels\\61\\5c\\24\\7d8ed078555f30e8f23fbc97f6361242a2cb4437ddd0384389\n",
      "  Building wheel for pymsgbox (pyproject.toml): started\n",
      "  Building wheel for pymsgbox (pyproject.toml): finished with status 'done'\n",
      "  Created wheel for pymsgbox: filename=PyMsgBox-1.0.9-py3-none-any.whl size=7417 sha256=bf36fcdf229cdaa96ba0e8944d4d6373b69a9cba911b778b7e505db91b482385\n",
      "  Stored in directory: c:\\users\\dev\\appdata\\local\\pip\\cache\\wheels\\02\\b3\\8f\\8105b9948d1e23d9ad0d9de8d7f198aee5c7575aeba878ea82\n",
      "  Building wheel for pyperclip (pyproject.toml): started\n",
      "  Building wheel for pyperclip (pyproject.toml): finished with status 'done'\n",
      "  Created wheel for pyperclip: filename=pyperclip-1.9.0-py3-none-any.whl size=11018 sha256=b74a6754084ef2e517a6fc02003d510d5261043619cd4e3d986fd305254e280f\n",
      "  Stored in directory: c:\\users\\dev\\appdata\\local\\pip\\cache\\wheels\\9c\\79\\90\\c9e831caaffa2633ad99f1d35c6ea39866b92de62e909e89ef\n",
      "  Building wheel for pyrect (pyproject.toml): started\n",
      "  Building wheel for pyrect (pyproject.toml): finished with status 'done'\n",
      "  Created wheel for pyrect: filename=PyRect-0.2.0-py2.py3-none-any.whl size=11206 sha256=9118065ad8b568b07c19352e6696c981a85339df37bde34660beaf6ebe008a43\n",
      "  Stored in directory: c:\\users\\dev\\appdata\\local\\pip\\cache\\wheels\\1e\\84\\e3\\83782b4a92f3d4d5b7fff5c36bf8c31922719e0695ee854cf0\n",
      "Successfully built pyautogui pygetwindow pyscreeze pytweening mouseinfo pymsgbox pyperclip pyrect\n",
      "Installing collected packages: pytweening, pyscreeze, pyrect, pyperclip, pymsgbox, pygetwindow, mouseinfo, pyautogui\n",
      "Successfully installed mouseinfo-0.1.3 pyautogui-0.9.54 pygetwindow-0.0.9 pymsgbox-1.0.9 pyperclip-1.9.0 pyrect-0.2.0 pyscreeze-1.0.1 pytweening-1.2.0\n"
     ]
    },
    {
     "name": "stderr",
     "output_type": "stream",
     "text": [
      "\n",
      "[notice] A new release of pip is available: 24.2 -> 24.3.1\n",
      "[notice] To update, run: python.exe -m pip install --upgrade pip\n"
     ]
    },
    {
     "data": {
      "text/html": [
       "<div>\n",
       "<style scoped>\n",
       "    .dataframe tbody tr th:only-of-type {\n",
       "        vertical-align: middle;\n",
       "    }\n",
       "\n",
       "    .dataframe tbody tr th {\n",
       "        vertical-align: top;\n",
       "    }\n",
       "\n",
       "    .dataframe thead th {\n",
       "        text-align: right;\n",
       "    }\n",
       "</style>\n",
       "<table border=\"1\" class=\"dataframe\">\n",
       "  <thead>\n",
       "    <tr style=\"text-align: right;\">\n",
       "      <th></th>\n",
       "      <th>Nome</th>\n",
       "      <th>Idade</th>\n",
       "    </tr>\n",
       "  </thead>\n",
       "  <tbody>\n",
       "    <tr>\n",
       "      <th>0</th>\n",
       "      <td>João</td>\n",
       "      <td>10</td>\n",
       "    </tr>\n",
       "    <tr>\n",
       "      <th>1</th>\n",
       "      <td>Antonio</td>\n",
       "      <td>15</td>\n",
       "    </tr>\n",
       "  </tbody>\n",
       "</table>\n",
       "</div>"
      ],
      "text/plain": [
       "      Nome Idade\n",
       "0     João    10\n",
       "1  Antonio    15"
      ]
     },
     "metadata": {},
     "output_type": "display_data"
    }
   ],
   "source": [
    "#import sys\n",
    "#!{sys.executable} -m pip install pandas\n",
    "#Precisei rodar este import pois no prompt não estava funcionando\n",
    "\n",
    "import pandas\n",
    "\n",
    "tabela = pandas.DataFrame({'Nome': ['João','Antonio'],\n",
    "                           'Idade': ['10','15']})\n",
    "display(tabela)"
   ]
  }
 ],
 "metadata": {
  "kernelspec": {
   "display_name": "Python 3",
   "language": "python",
   "name": "python3"
  },
  "language_info": {
   "codemirror_mode": {
    "name": "ipython",
    "version": 3
   },
   "file_extension": ".py",
   "mimetype": "text/x-python",
   "name": "python",
   "nbconvert_exporter": "python",
   "pygments_lexer": "ipython3",
   "version": "3.13.0"
  },
  "orig_nbformat": 4
 },
 "nbformat": 4,
 "nbformat_minor": 2
}
